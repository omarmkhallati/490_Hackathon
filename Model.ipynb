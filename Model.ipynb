{
 "cells": [
  {
   "cell_type": "markdown",
   "metadata": {},
   "source": [
    "# Mohammed Omar Mkhallati - Hackathon\n",
    "Upon taking a first look at the dataset, I was honestly abit confused as to how I can turn this into a predictive model. I thought of multiple ways but then it hit me that I can use the data for smoking and apply a K-means algorithm to divide the smokers into two categories, Moderately Dependent and Extremely Dependent. I then thought it would be interesting to view how the personality traits and socieconomic factors might affect a persons smoking dependency. I used a neural network in order to train and test my model and it is relatively accurate."
   ]
  },
  {
   "cell_type": "markdown",
   "metadata": {},
   "source": [
    "## Import Statements\n",
    "These are the import statements I used to run my code."
   ]
  },
  {
   "cell_type": "code",
   "execution_count": 1,
   "metadata": {},
   "outputs": [],
   "source": [
    "import pandas as pd\n",
    "import torch\n",
    "import torch.nn as nn\n",
    "import torch.optim as optim\n",
    "from torch.utils.data import TensorDataset, random_split, DataLoader\n",
    "from sklearn.preprocessing import StandardScaler, LabelEncoder\n",
    "from sklearn.metrics import confusion_matrix\n",
    "import matplotlib.pyplot as plt\n",
    "import numpy as np"
   ]
  },
  {
   "cell_type": "markdown",
   "metadata": {},
   "source": [
    "## Read & Process Data\n",
    "The 2024_PersonalityTraits_SurveyData.csv file is the file we got provided, the K-Means_Output.csv file is the output of the K-Means algorithm where we split the dataset into two clusters, Moderately Dependent and Extremely Dependent. I adjusted the data to fit the ages between 14 and 22 since my K-Means algorithm identified the rest as outliers and discarded them. I also removed any features that we wont use that range from factors that dont largely contribute, to the 'Comment' sections that might affect our model. I also turned every possible feature into a label using an encoder."
   ]
  },
  {
   "cell_type": "code",
   "execution_count": 2,
   "metadata": {},
   "outputs": [],
   "source": [
    "datax = pd.read_csv('C:/Users/user/Desktop/2024_PersonalityTraits_SurveyData.csv')\n",
    "datay = pd.read_csv('C:/Users/user/Desktop/K-Means_Output.csv')\n",
    "\n",
    "datax = datax[datax['How old were you the first time you smoked a full cigarette (not just a few puffs)?'] < 23]\n",
    "datax = datax[datax['How old were you the first time you smoked a full cigarette (not just a few puffs)?'] > 13]\n",
    "\n",
    "datax = datax.drop('id', axis=1)\n",
    "datax = datax.drop('Sector', axis=1)\n",
    "datax = datax.drop('Last page', axis=1)\n",
    "datax = datax.drop('Have you smoked at least one full tobacco cigarette (excluding e-cigarettes) once or more in the past 30 days?', axis=1)\n",
    "datax = datax.drop('Do you find it difficult to refrain from smoking where it is forbidden (church, library, cinema, plane, etc...)?', axis=1)\n",
    "datax = datax.drop('How many cigarettes do you smoke each day?', axis=1)\n",
    "datax = datax.drop('Do you smoke more frequently during the first hours after waking up than during the rest of the day? ', axis=1)\n",
    "datax = datax.drop('Do you smoke if you are so ill that you are in bed most of the day?', axis=1)\n",
    "datax = datax.drop('How soon after you wake up do you smoke your first cigarette?', axis=1)\n",
    "datax = datax.drop('Which cigarette would you mostly hate to give up?', axis=1)\n",
    "datax = datax.drop('How old were you the first time you smoked a full cigarette (not just a few puffs)?', axis=1)\n",
    "datax = datax.drop(\"How would you describe your current smoking behavior compared to your smoking behavior before Lebanon's economic crisis and revolution began in 2019?\", axis=1)\n",
    "datax = datax.drop('What is your favorite or preferred cigarette brand(s) if you were able to access it?', axis=1)\n",
    "datax = datax.drop('What cigarette brand(s) are you currently using?', axis=1)\n",
    "datax = datax.drop('What is your current employment status? [Comment]', axis=1)\n",
    "datax = datax.drop('What is your current marital status? [Comment]', axis=1)\n",
    "datax = datax.drop('What is your main source of income? [Comment]', axis=1)\n",
    "datax = datax.drop('What type of income or financial support does your household receive? [Comment]', axis=1)\n",
    "\n",
    "label_encoders = {}\n",
    "for col in datax.columns:\n",
    "    if datax[col].dtype == 'object':\n",
    "        le = LabelEncoder()\n",
    "        datax[col] = le.fit_transform(datax[col].fillna('Unknown'))\n",
    "        label_encoders[col] = le\n",
    "\n",
    "datay = datay['Cluster'].astype(float)"
   ]
  },
  {
   "cell_type": "markdown",
   "metadata": {},
   "source": [
    "## Extract Features And Output And Scale Them And Turn Them To Tensor Objects\n",
    "I extracted the features and output from the relative data and I scaled them and turned them into tensor objects in order to be able to use them with the neural network."
   ]
  },
  {
   "cell_type": "code",
   "execution_count": 3,
   "metadata": {},
   "outputs": [],
   "source": [
    "X = datax\n",
    "y = datay\n",
    "\n",
    "scaler = StandardScaler()\n",
    "X_scaled = scaler.fit_transform(X)\n",
    "\n",
    "X_tensor = torch.FloatTensor(X_scaled)\n",
    "y_tensor = torch.FloatTensor(y)\n",
    "\n",
    "dataset = TensorDataset(X_tensor, y_tensor)"
   ]
  },
  {
   "cell_type": "markdown",
   "metadata": {},
   "source": [
    "## Split The Dataset into Training, Test, And Validation\n",
    "I split the dataset into 80% training, 10% Validation, and 10% Testing. I also made DataLoaders for each set."
   ]
  },
  {
   "cell_type": "code",
   "execution_count": 4,
   "metadata": {},
   "outputs": [],
   "source": [
    "train_size = int(0.8 * len(dataset))\n",
    "dev_size = int(0.1 * len(dataset))\n",
    "test_size = len(dataset) - train_size - dev_size\n",
    "\n",
    "train_data, dev_data, test_data = random_split(dataset, [train_size, dev_size, test_size])\n",
    "\n",
    "batch_size = 64\n",
    "train_loader = DataLoader(train_data, batch_size=batch_size, shuffle=True)\n",
    "dev_loader = DataLoader(dev_data, batch_size=batch_size, shuffle=False)\n",
    "test_loader = DataLoader(test_data, batch_size=batch_size, shuffle=False)"
   ]
  },
  {
   "cell_type": "markdown",
   "metadata": {},
   "source": [
    "## My Neural Network Class\n",
    "I made a neural network with several layers and I used batch normalization and leaky_relu in order to get the best results possible."
   ]
  },
  {
   "cell_type": "code",
   "execution_count": 5,
   "metadata": {},
   "outputs": [],
   "source": [
    "class SimpleNN(nn.Module):\n",
    "    def __init__(self, input_dim):\n",
    "        super(SimpleNN, self).__init__()\n",
    "        self.fc1 = nn.Linear(input_dim, 512)\n",
    "        self.bn1 = nn.BatchNorm1d(512)\n",
    "        self.fc2 = nn.Linear(512, 256)\n",
    "        self.bn2 = nn.BatchNorm1d(256)\n",
    "        self.fc3 = nn.Linear(256, 128)\n",
    "        self.bn3 = nn.BatchNorm1d(128)\n",
    "        self.fc4 = nn.Linear(128, 64)\n",
    "        self.bn4 = nn.BatchNorm1d(64)\n",
    "        self.fc5 = nn.Linear(64, 32)\n",
    "        self.bn5 = nn.BatchNorm1d(32)\n",
    "        self.fc6 = nn.Linear(32, 1)\n",
    "\n",
    "    def forward(self, x):\n",
    "        x = torch.nn.functional.leaky_relu(self.bn1(self.fc1(x)))\n",
    "        x = torch.nn.functional.leaky_relu(self.bn2(self.fc2(x)))\n",
    "        x = torch.nn.functional.leaky_relu(self.bn3(self.fc3(x)))\n",
    "        x = torch.nn.functional.leaky_relu(self.bn4(self.fc4(x)))\n",
    "        x = torch.nn.functional.leaky_relu(self.bn5(self.fc5(x)))\n",
    "        x = self.fc6(x)\n",
    "        return x"
   ]
  },
  {
   "cell_type": "markdown",
   "metadata": {},
   "source": [
    "## Run The Model\n",
    "I ran the model with the Adam optimizer and a learning rate of 0.001. Our error is BCE (binary cross entropy), and I ran it for 150 epochs in order to obtain the most accuracy."
   ]
  },
  {
   "cell_type": "code",
   "execution_count": 6,
   "metadata": {},
   "outputs": [
    {
     "name": "stdout",
     "output_type": "stream",
     "text": [
      "Epoch [1/150], Training Loss: 0.6609\n",
      "Epoch [2/150], Training Loss: 0.5035\n",
      "Epoch [3/150], Training Loss: 0.4346\n",
      "Epoch [4/150], Training Loss: 0.3890\n",
      "Epoch [5/150], Training Loss: 0.3502\n",
      "Epoch [6/150], Training Loss: 0.3181\n",
      "Epoch [7/150], Training Loss: 0.2832\n",
      "Epoch [8/150], Training Loss: 0.2573\n",
      "Epoch [9/150], Training Loss: 0.2376\n",
      "Epoch [10/150], Training Loss: 0.2239\n",
      "Epoch [11/150], Training Loss: 0.2065\n",
      "Epoch [12/150], Training Loss: 0.1959\n",
      "Epoch [13/150], Training Loss: 0.1840\n",
      "Epoch [14/150], Training Loss: 0.1802\n",
      "Epoch [15/150], Training Loss: 0.1725\n",
      "Epoch [16/150], Training Loss: 0.1576\n",
      "Epoch [17/150], Training Loss: 0.1462\n",
      "Epoch [18/150], Training Loss: 0.1475\n",
      "Epoch [19/150], Training Loss: 0.1418\n",
      "Epoch [20/150], Training Loss: 0.1353\n",
      "Epoch [21/150], Training Loss: 0.1355\n",
      "Epoch [22/150], Training Loss: 0.1125\n",
      "Epoch [23/150], Training Loss: 0.1150\n",
      "Epoch [24/150], Training Loss: 0.1043\n",
      "Epoch [25/150], Training Loss: 0.1029\n",
      "Epoch [26/150], Training Loss: 0.0946\n",
      "Epoch [27/150], Training Loss: 0.0918\n",
      "Epoch [28/150], Training Loss: 0.0912\n",
      "Epoch [29/150], Training Loss: 0.0859\n",
      "Epoch [30/150], Training Loss: 0.0858\n",
      "Epoch [31/150], Training Loss: 0.0748\n",
      "Epoch [32/150], Training Loss: 0.0758\n",
      "Epoch [33/150], Training Loss: 0.0745\n",
      "Epoch [34/150], Training Loss: 0.0679\n",
      "Epoch [35/150], Training Loss: 0.0669\n",
      "Epoch [36/150], Training Loss: 0.0631\n",
      "Epoch [37/150], Training Loss: 0.0784\n",
      "Epoch [38/150], Training Loss: 0.0590\n",
      "Epoch [39/150], Training Loss: 0.0583\n",
      "Epoch [40/150], Training Loss: 0.0552\n",
      "Epoch [41/150], Training Loss: 0.0561\n",
      "Epoch [42/150], Training Loss: 0.0505\n",
      "Epoch [43/150], Training Loss: 0.0703\n",
      "Epoch [44/150], Training Loss: 0.0463\n",
      "Epoch [45/150], Training Loss: 0.0527\n",
      "Epoch [46/150], Training Loss: 0.0503\n",
      "Epoch [47/150], Training Loss: 0.0447\n",
      "Epoch [48/150], Training Loss: 0.0417\n",
      "Epoch [49/150], Training Loss: 0.0417\n",
      "Epoch [50/150], Training Loss: 0.0398\n",
      "Epoch [51/150], Training Loss: 0.0367\n",
      "Epoch [52/150], Training Loss: 0.0453\n",
      "Epoch [53/150], Training Loss: 0.0381\n",
      "Epoch [54/150], Training Loss: 0.0423\n",
      "Epoch [55/150], Training Loss: 0.0621\n",
      "Epoch [56/150], Training Loss: 0.0572\n",
      "Epoch [57/150], Training Loss: 0.0599\n",
      "Epoch [58/150], Training Loss: 0.0370\n",
      "Epoch [59/150], Training Loss: 0.0474\n",
      "Epoch [60/150], Training Loss: 0.0394\n",
      "Epoch [61/150], Training Loss: 0.0530\n",
      "Epoch [62/150], Training Loss: 0.0364\n",
      "Epoch [63/150], Training Loss: 0.0387\n",
      "Epoch [64/150], Training Loss: 0.0355\n",
      "Epoch [65/150], Training Loss: 0.0299\n",
      "Epoch [66/150], Training Loss: 0.0272\n",
      "Epoch [67/150], Training Loss: 0.0289\n",
      "Epoch [68/150], Training Loss: 0.0252\n",
      "Epoch [69/150], Training Loss: 0.0339\n",
      "Epoch [70/150], Training Loss: 0.0239\n",
      "Epoch [71/150], Training Loss: 0.0243\n",
      "Epoch [72/150], Training Loss: 0.0264\n",
      "Epoch [73/150], Training Loss: 0.0252\n",
      "Epoch [74/150], Training Loss: 0.0230\n",
      "Epoch [75/150], Training Loss: 0.0216\n",
      "Epoch [76/150], Training Loss: 0.0207\n",
      "Epoch [77/150], Training Loss: 0.0185\n",
      "Epoch [78/150], Training Loss: 0.0181\n",
      "Epoch [79/150], Training Loss: 0.0183\n",
      "Epoch [80/150], Training Loss: 0.0219\n",
      "Epoch [81/150], Training Loss: 0.0170\n",
      "Epoch [82/150], Training Loss: 0.0189\n",
      "Epoch [83/150], Training Loss: 0.0184\n",
      "Epoch [84/150], Training Loss: 0.0157\n",
      "Epoch [85/150], Training Loss: 0.0177\n",
      "Epoch [86/150], Training Loss: 0.0156\n",
      "Epoch [87/150], Training Loss: 0.0178\n",
      "Epoch [88/150], Training Loss: 0.0256\n",
      "Epoch [89/150], Training Loss: 0.0148\n",
      "Epoch [90/150], Training Loss: 0.0233\n",
      "Epoch [91/150], Training Loss: 0.0162\n",
      "Epoch [92/150], Training Loss: 0.0227\n",
      "Epoch [93/150], Training Loss: 0.0155\n",
      "Epoch [94/150], Training Loss: 0.0144\n",
      "Epoch [95/150], Training Loss: 0.0157\n",
      "Epoch [96/150], Training Loss: 0.0170\n",
      "Epoch [97/150], Training Loss: 0.0338\n",
      "Epoch [98/150], Training Loss: 0.0160\n",
      "Epoch [99/150], Training Loss: 0.0291\n",
      "Epoch [100/150], Training Loss: 0.0863\n",
      "Epoch [101/150], Training Loss: 0.0248\n",
      "Epoch [102/150], Training Loss: 0.0382\n",
      "Epoch [103/150], Training Loss: 0.0369\n",
      "Epoch [104/150], Training Loss: 0.0196\n",
      "Epoch [105/150], Training Loss: 0.0538\n",
      "Epoch [106/150], Training Loss: 0.0181\n",
      "Epoch [107/150], Training Loss: 0.0337\n",
      "Epoch [108/150], Training Loss: 0.0173\n",
      "Epoch [109/150], Training Loss: 0.0204\n",
      "Epoch [110/150], Training Loss: 0.0305\n",
      "Epoch [111/150], Training Loss: 0.0173\n",
      "Epoch [112/150], Training Loss: 0.0176\n",
      "Epoch [113/150], Training Loss: 0.0548\n",
      "Epoch [114/150], Training Loss: 0.0766\n",
      "Epoch [115/150], Training Loss: 0.0243\n",
      "Epoch [116/150], Training Loss: 0.0432\n",
      "Epoch [117/150], Training Loss: 0.0457\n",
      "Epoch [118/150], Training Loss: 0.0213\n",
      "Epoch [119/150], Training Loss: 0.0484\n",
      "Epoch [120/150], Training Loss: 0.0259\n",
      "Epoch [121/150], Training Loss: 0.0171\n",
      "Epoch [122/150], Training Loss: 0.0448\n",
      "Epoch [123/150], Training Loss: 0.0119\n",
      "Epoch [124/150], Training Loss: 0.0103\n",
      "Epoch [125/150], Training Loss: 0.0164\n",
      "Epoch [126/150], Training Loss: 0.0114\n",
      "Epoch [127/150], Training Loss: 0.0484\n",
      "Epoch [128/150], Training Loss: 0.0098\n",
      "Epoch [129/150], Training Loss: 0.0112\n",
      "Epoch [130/150], Training Loss: 0.0492\n",
      "Epoch [131/150], Training Loss: 0.0144\n",
      "Epoch [132/150], Training Loss: 0.0121\n",
      "Epoch [133/150], Training Loss: 0.0208\n",
      "Epoch [134/150], Training Loss: 0.0385\n",
      "Epoch [135/150], Training Loss: 0.0095\n",
      "Epoch [136/150], Training Loss: 0.0101\n",
      "Epoch [137/150], Training Loss: 0.0329\n",
      "Epoch [138/150], Training Loss: 0.0108\n",
      "Epoch [139/150], Training Loss: 0.0092\n",
      "Epoch [140/150], Training Loss: 0.0218\n",
      "Epoch [141/150], Training Loss: 0.0173\n",
      "Epoch [142/150], Training Loss: 0.0110\n",
      "Epoch [143/150], Training Loss: 0.0109\n",
      "Epoch [144/150], Training Loss: 0.0635\n",
      "Epoch [145/150], Training Loss: 0.0075\n",
      "Epoch [146/150], Training Loss: 0.0400\n",
      "Epoch [147/150], Training Loss: 0.0195\n",
      "Epoch [148/150], Training Loss: 0.0076\n",
      "Epoch [149/150], Training Loss: 0.0071\n",
      "Epoch [150/150], Training Loss: 0.0318\n"
     ]
    }
   ],
   "source": [
    "model = SimpleNN(input_dim=X_scaled.shape[1])\n",
    "criterion = nn.BCEWithLogitsLoss()\n",
    "optimizer = optim.Adam(model.parameters(), lr=0.001)\n",
    "\n",
    "training_loss = []\n",
    "\n",
    "epochs = 150\n",
    "for epoch in range(epochs):\n",
    "    model.train()\n",
    "    running_loss = 0.0\n",
    "    for features, labels in train_loader:\n",
    "        features, labels = features.float(), labels.float().unsqueeze(1)\n",
    "        optimizer.zero_grad()\n",
    "        outputs = model(features)\n",
    "        loss = criterion(outputs, labels)\n",
    "        loss.backward()\n",
    "        optimizer.step()\n",
    "        running_loss += loss.item()\n",
    "    training_loss.append (running_loss/len(train_loader))\n",
    "    print(f\"Epoch [{epoch+1}/{epochs}], Training Loss: {running_loss/len(train_loader):.4f}\")"
   ]
  },
  {
   "cell_type": "markdown",
   "metadata": {},
   "source": [
    "## Evaluate Model\n",
    "I used this to evaluate the model over the rest of the sets i.e training and validation sets."
   ]
  },
  {
   "cell_type": "code",
   "execution_count": 7,
   "metadata": {},
   "outputs": [],
   "source": [
    "def evaluate_model(loader, model, criterion):\n",
    "    model.eval()\n",
    "    total_loss = 0.0\n",
    "    total_correct = 0\n",
    "    total_samples = 0\n",
    "    with torch.no_grad():\n",
    "        for features, labels in loader:\n",
    "            features, labels = features.float(), labels.float().unsqueeze(1)\n",
    "            outputs = model(features)\n",
    "            loss = criterion(outputs, labels)\n",
    "            total_loss += loss.item()\n",
    "            predictions = torch.sigmoid(outputs) > 0.5\n",
    "            total_correct += (predictions == labels).sum().item()\n",
    "            total_samples += labels.size(0)\n",
    "    average_loss = total_loss / len(loader)\n",
    "    accuracy = total_correct / total_samples\n",
    "    return average_loss, accuracy"
   ]
  },
  {
   "cell_type": "markdown",
   "metadata": {},
   "source": [
    "## Calculate & Print Validation & Test BCE Error\n",
    "These are the results for the validation and test BCE Error and the accruacy."
   ]
  },
  {
   "cell_type": "code",
   "execution_count": 8,
   "metadata": {},
   "outputs": [
    {
     "name": "stdout",
     "output_type": "stream",
     "text": [
      "Validation Loss : 0.7637, Validation Accuracy : 78.95%\n",
      "Test Loss : 0.9468, Test Accuracy : 73.68%\n"
     ]
    }
   ],
   "source": [
    "validation_loss, validation_accuracy = evaluate_model(dev_loader, model, criterion)\n",
    "print(f\"Validation Loss : {validation_loss:.4f}, Validation Accuracy : {validation_accuracy * 100:.2f}%\")\n",
    "\n",
    "test_loss, test_accuracy = evaluate_model(test_loader, model, criterion)\n",
    "print(f\"Test Loss : {test_loss:.4f}, Test Accuracy : {test_accuracy * 100:.2f}%\")"
   ]
  },
  {
   "cell_type": "markdown",
   "metadata": {},
   "source": [
    "## Important Plots\n",
    "I will show the training loss over the 150 epochs, the validation accuracy over the epochs, and the confusion matrix on the test set."
   ]
  },
  {
   "cell_type": "code",
   "execution_count": 9,
   "metadata": {},
   "outputs": [
    {
     "data": {
      "image/png": "[encoded data removed]",
      "text/plain": [
       "<Figure size 720x360 with 1 Axes>"
      ]
     },
     "metadata": {
      "needs_background": "light"
     },
     "output_type": "display_data"
    }
   ],
   "source": [
    "plt.figure(figsize=(10, 5))\n",
    "plt.plot(range(epochs), training_loss, label='Training Loss')\n",
    "plt.xlabel('Epoch')\n",
    "plt.ylabel('Loss')\n",
    "plt.title('Training Loss Over Epochs')\n",
    "plt.legend()\n",
    "plt.show()"
   ]
  },
  {
   "cell_type": "markdown",
   "metadata": {},
   "source": [
    "## Confusion Matrix\n",
    "A simple confusion matrix to observe the model on the test set."
   ]
  },
  {
   "cell_type": "code",
   "execution_count": 10,
   "metadata": {},
   "outputs": [
    {
     "data": {
      "image/png": "[encoded data removed]",
      "text/plain": [
       "<Figure size 576x432 with 2 Axes>"
      ]
     },
     "metadata": {
      "needs_background": "light"
     },
     "output_type": "display_data"
    }
   ],
   "source": [
    "from sklearn.metrics import confusion_matrix\n",
    "import seaborn as sns\n",
    "\n",
    "test_loss, test_accuracy = evaluate_model(test_loader, model, criterion)\n",
    "all_preds = []\n",
    "all_labels = []\n",
    "\n",
    "with torch.no_grad():\n",
    "    for features, labels in test_loader:\n",
    "        features, labels = features.float(), labels.float().unsqueeze(1)\n",
    "        predictions = torch.sigmoid(model(features)) > 0.5\n",
    "        all_preds.extend(predictions.numpy().astype(int))\n",
    "        all_labels.extend(labels.numpy().astype(int))\n",
    "\n",
    "cm = confusion_matrix(all_labels, all_preds)\n",
    "\n",
    "plt.figure(figsize=(8, 6))\n",
    "sns.heatmap(cm, annot=True, fmt='d', cmap=\"Blues\", xticklabels=[\"Moderately Dependent\", \"Extremely Dependent\"], yticklabels=[\"Moderately Dependent\", \"Extremely Dependent\"])\n",
    "plt.xlabel('Predicted')\n",
    "plt.ylabel('Actual')\n",
    "plt.title('Confusion Matrix')\n",
    "plt.show()"
   ]
  },
  {
   "cell_type": "markdown",
   "metadata": {},
   "source": [
    "## Conclusion (My Results)\n",
    "Based on the results, I would say the model is performing well. The steady decrease in training loss over the 150 epochs indicates the model was able to effectively learn the underlying patterns in the data. The validation metrics are also reasonably strong, with a validation loss of 0.7637 and validation accuracy of 78.95%. This suggests the model is generalizing effectively to unseen data. While the test set performance, with a test loss of 0.9468 and test accuracy of 73.68%, shows there may be some room for small improvements, overall the model appears to be in a good state. With some additional fine-tuning and optimization, I'm confident the model's performance on the test set could be further enhanced. But the current results are already quite promising. The confusion matrix also provides valuable insights into the model's strengths and weaknesses in terms of its ability to accurately classify the different categories."
   ]
  }
 ],
 "metadata": {
  "kernelspec": {
   "display_name": "Python 3",
   "language": "python",
   "name": "python3"
  },
  "language_info": {
   "codemirror_mode": {
    "name": "ipython",
    "version": 3
   },
   "file_extension": ".py",
   "mimetype": "text/x-python",
   "name": "python",
   "nbconvert_exporter": "python",
   "pygments_lexer": "ipython3",
   "version": "3.6.4"
  }
 },
 "nbformat": 4,
 "nbformat_minor": 2
}
